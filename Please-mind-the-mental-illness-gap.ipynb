{
 "cells": [
  {
   "cell_type": "markdown",
   "metadata": {},
   "source": [
    "# Section 1 : Business understanding \n",
    "\n",
    "### Explore OSMI survey datasets of 2020\n",
    "###    About OSMI - Open Sourcing Mental Illness\n",
    "    Open Sourcing Mental Illness is a non-profit corporation dedicated to raising awareness, educating, and providing resources to support mental wellness in the tech and open source communities.  \n",
    "    Open Sourcing Mental Illness is a non-profit, 501(c)(3) corporation dedicated to raising awareness, educating, and providing resources to support mental wellness in the tech and open source communities.\n",
    "https://osmihelp.org/\n",
    "\n",
    "    Every year, OSMI publishes a survey report since 2016  \n",
    "\n",
    "### OSMI Mental Health In Tech Survey 2020\n",
    "\n",
    "    This dataset was published on Kaggle the 2nd of January based on 2020 survey.\n",
    "https://www.kaggle.com/osmihelp/osmi-2020-mental-health-in-tech-survey-results   \n",
    "I will analyze this survey data to answer some questions about the mental impact of covid-19 on tech workers\n",
    "\n",
    "\n",
    "### Question 1: How people impacted by mental issues are willing and educated to evaluate their limitations.\n",
    "\n",
    "### Question 2: How people with mental disabilities are willing to talk about it to their colleagues and employers?\n",
    "\n",
    "### Question 3: How people with mental disabilities are trusting their companies to process privately their information?\n",
    "\n",
    "\n",
    "\n",
    "\n",
    "\n",
    "\n",
    "\n",
    "\n"
   ]
  },
  {
   "cell_type": "markdown",
   "metadata": {},
   "source": [
    "## 1. Data overview"
   ]
  },
  {
   "cell_type": "markdown",
   "metadata": {},
   "source": [
    "Observations:\n",
    "1. The dataset is composed by 180 answers to the survey.\n",
    "2. The survey is composed by 120 questions\n",
    "3. Many NaN values because answering to some questions was not mandatory or because some questions were not always relevant as: \n",
    " 1. The US state when you already answered working in US\n",
    " 2. Question related employers for self-employed people\n",
    "\n"
   ]
  },
  {
   "cell_type": "markdown",
   "metadata": {},
   "source": [
    "### Gather OSMI 2020 survey dataset\n"
   ]
  },
  {
   "cell_type": "code",
   "execution_count": 1,
   "metadata": {},
   "outputs": [
    {
     "name": "stdout",
     "output_type": "stream",
     "text": [
      "Shape of the dataframe =  (180, 120)\n"
     ]
    }
   ],
   "source": [
    "#!pip install pandas_profiling\n",
    "\n",
    "import pandas as pd\n",
    "import matplotlib.pyplot as plt\n",
    "import pandas_profiling as pp\n",
    "\n",
    "df = pd.read_csv('data/OSMI/OSMI-2020.csv')\n",
    "print('Shape of the dataframe = ' , df.shape)"
   ]
  },
  {
   "cell_type": "markdown",
   "metadata": {},
   "source": [
    "# Section 2 : Data understanding\n"
   ]
  },
  {
   "cell_type": "code",
   "execution_count": 2,
   "metadata": {},
   "outputs": [
    {
     "data": {
      "text/html": [
       "<div>\n",
       "<style scoped>\n",
       "    .dataframe tbody tr th:only-of-type {\n",
       "        vertical-align: middle;\n",
       "    }\n",
       "\n",
       "    .dataframe tbody tr th {\n",
       "        vertical-align: top;\n",
       "    }\n",
       "\n",
       "    .dataframe thead th {\n",
       "        text-align: right;\n",
       "    }\n",
       "</style>\n",
       "<table border=\"1\" class=\"dataframe\">\n",
       "  <thead>\n",
       "    <tr style=\"text-align: right;\">\n",
       "      <th></th>\n",
       "      <th>#</th>\n",
       "      <th>*Are you self-employed?*</th>\n",
       "      <th>How many employees does your company or organization have?</th>\n",
       "      <th>Is your employer primarily a tech company/organization?</th>\n",
       "      <th>Is your primary role within your company related to tech/IT?</th>\n",
       "      <th>Does your employer provide mental health benefits as part of healthcare coverage?</th>\n",
       "      <th>Do you know the options for mental health care available under your employer-provided health coverage?</th>\n",
       "      <th>Has your employer ever formally discussed mental health (for example, as part of a wellness campaign or other official communication)?</th>\n",
       "      <th>Does your employer offer resources to learn more about mental health disorders and options for seeking help?</th>\n",
       "      <th>Is your anonymity protected if you choose to take advantage of mental health or substance abuse treatment resources provided by your employer?</th>\n",
       "      <th>...</th>\n",
       "      <th>If there is anything else you would like to tell us that has not been covered by the survey questions, please use this space to do so.</th>\n",
       "      <th>Would you be willing to talk to one of us more extensively about your experiences with mental health issues in the tech industry? (Note that all interview responses would be used _anonymously_ and only with your permission.)</th>\n",
       "      <th>What is your age?</th>\n",
       "      <th>What is your gender?</th>\n",
       "      <th>What country do you *live* in?</th>\n",
       "      <th>What US state or territory do you *live* in?</th>\n",
       "      <th>What is your race?</th>\n",
       "      <th>Other.3</th>\n",
       "      <th>What country do you *work* in?</th>\n",
       "      <th>What US state or territory do you *work* in?</th>\n",
       "    </tr>\n",
       "  </thead>\n",
       "  <tbody>\n",
       "    <tr>\n",
       "      <th>0</th>\n",
       "      <td>zwrffw6ykfo82ft1twvzwrffw6c6wsfv</td>\n",
       "      <td>1</td>\n",
       "      <td>NaN</td>\n",
       "      <td>NaN</td>\n",
       "      <td>NaN</td>\n",
       "      <td>NaN</td>\n",
       "      <td>NaN</td>\n",
       "      <td>NaN</td>\n",
       "      <td>NaN</td>\n",
       "      <td>NaN</td>\n",
       "      <td>...</td>\n",
       "      <td>NaN</td>\n",
       "      <td>0</td>\n",
       "      <td>45</td>\n",
       "      <td>Male</td>\n",
       "      <td>United States of America</td>\n",
       "      <td>Connecticut</td>\n",
       "      <td>White</td>\n",
       "      <td>NaN</td>\n",
       "      <td>United States of America</td>\n",
       "      <td>Connecticut</td>\n",
       "    </tr>\n",
       "    <tr>\n",
       "      <th>1</th>\n",
       "      <td>zhdmhaa8r0125c4zmoi7qzhdmtjrakhm</td>\n",
       "      <td>1</td>\n",
       "      <td>NaN</td>\n",
       "      <td>NaN</td>\n",
       "      <td>NaN</td>\n",
       "      <td>NaN</td>\n",
       "      <td>NaN</td>\n",
       "      <td>NaN</td>\n",
       "      <td>NaN</td>\n",
       "      <td>NaN</td>\n",
       "      <td>...</td>\n",
       "      <td>NaN</td>\n",
       "      <td>1</td>\n",
       "      <td>24</td>\n",
       "      <td>female</td>\n",
       "      <td>Russia</td>\n",
       "      <td>NaN</td>\n",
       "      <td>NaN</td>\n",
       "      <td>NaN</td>\n",
       "      <td>Russia</td>\n",
       "      <td>NaN</td>\n",
       "    </tr>\n",
       "  </tbody>\n",
       "</table>\n",
       "<p>2 rows × 120 columns</p>\n",
       "</div>"
      ],
      "text/plain": [
       "                                  #  *Are you self-employed?*  \\\n",
       "0  zwrffw6ykfo82ft1twvzwrffw6c6wsfv                         1   \n",
       "1  zhdmhaa8r0125c4zmoi7qzhdmtjrakhm                         1   \n",
       "\n",
       "  How many employees does your company or organization have?  \\\n",
       "0                                                NaN           \n",
       "1                                                NaN           \n",
       "\n",
       "   Is your employer primarily a tech company/organization?  \\\n",
       "0                                                NaN         \n",
       "1                                                NaN         \n",
       "\n",
       "   Is your primary role within your company related to tech/IT?  \\\n",
       "0                                                NaN              \n",
       "1                                                NaN              \n",
       "\n",
       "  Does your employer provide mental health benefits as part of healthcare coverage?  \\\n",
       "0                                                NaN                                  \n",
       "1                                                NaN                                  \n",
       "\n",
       "  Do you know the options for mental health care available under your employer-provided health coverage?  \\\n",
       "0                                                NaN                                                       \n",
       "1                                                NaN                                                       \n",
       "\n",
       "  Has your employer ever formally discussed mental health (for example, as part of a wellness campaign or other official communication)?  \\\n",
       "0                                                NaN                                                                                       \n",
       "1                                                NaN                                                                                       \n",
       "\n",
       "  Does your employer offer resources to learn more about mental health disorders and options for seeking help?  \\\n",
       "0                                                NaN                                                             \n",
       "1                                                NaN                                                             \n",
       "\n",
       "  Is your anonymity protected if you choose to take advantage of mental health or substance abuse treatment resources provided by your employer?  \\\n",
       "0                                                NaN                                                                                               \n",
       "1                                                NaN                                                                                               \n",
       "\n",
       "   ...  \\\n",
       "0  ...   \n",
       "1  ...   \n",
       "\n",
       "  If there is anything else you would like to tell us that has not been covered by the survey questions, please use this space to do so.  \\\n",
       "0                                                NaN                                                                                       \n",
       "1                                                NaN                                                                                       \n",
       "\n",
       "  Would you be willing to talk to one of us more extensively about your experiences with mental health issues in the tech industry? (Note that all interview responses would be used _anonymously_ and only with your permission.)  \\\n",
       "0                                                  0                                                                                                                                                                                 \n",
       "1                                                  1                                                                                                                                                                                 \n",
       "\n",
       "  What is your age?  What is your gender? What country do you *live* in?  \\\n",
       "0                45                  Male       United States of America   \n",
       "1                24                female                         Russia   \n",
       "\n",
       "  What US state or territory do you *live* in?  What is your race? Other.3  \\\n",
       "0                                  Connecticut               White     NaN   \n",
       "1                                          NaN                 NaN     NaN   \n",
       "\n",
       "   What country do you *work* in? What US state or territory do you *work* in?  \n",
       "0        United States of America                                  Connecticut  \n",
       "1                          Russia                                          NaN  \n",
       "\n",
       "[2 rows x 120 columns]"
      ]
     },
     "execution_count": 2,
     "metadata": {},
     "output_type": "execute_result"
    }
   ],
   "source": [
    "df.head(2)"
   ]
  },
  {
   "cell_type": "markdown",
   "metadata": {},
   "source": [
    "# Section 3 : Data Preparation\n"
   ]
  },
  {
   "cell_type": "code",
   "execution_count": 3,
   "metadata": {},
   "outputs": [
    {
     "data": {
      "image/png": "[encoded data removed]",
      "text/plain": [
       "<Figure size 432x288 with 1 Axes>"
      ]
     },
     "metadata": {
      "needs_background": "light"
     },
     "output_type": "display_data"
    }
   ],
   "source": [
    "# Counting values by column\n",
    "values_by_columns = df.notnull().sum()\n",
    "\n",
    "values_by_columns.plot(kind='area', xticks=[]);"
   ]
  },
  {
   "cell_type": "markdown",
   "metadata": {},
   "source": [
    "#### 81 questions have more than 10% of answeers. The other 29 will not be included in this first analysis"
   ]
  },
  {
   "cell_type": "markdown",
   "metadata": {},
   "source": [
    "## Clean\n"
   ]
  },
  {
   "cell_type": "code",
   "execution_count": 4,
   "metadata": {},
   "outputs": [
    {
     "name": "stdout",
     "output_type": "stream",
     "text": [
      "Number of questions with enough answers -->  81\n"
     ]
    },
    {
     "data": {
      "image/png": "[encoded data removed]",
      "text/plain": [
       "<Figure size 432x288 with 1 Axes>"
      ]
     },
     "metadata": {
      "needs_background": "light"
     },
     "output_type": "display_data"
    }
   ],
   "source": [
    "columns_with_answers = values_by_columns[values_by_columns > 18].sort_values()\n",
    "print('Number of questions with enough answers --> ', columns_with_answers.count())\n",
    "\n",
    "columns_with_answers.plot(kind='area', xticks=[]);"
   ]
  },
  {
   "cell_type": "markdown",
   "metadata": {},
   "source": [
    "### By plotting the number of values by columns, we can observe a stairs effect. Each level will be investigated.\n",
    "    \n",
    "- 20   columns have 180 values (0 NaN)\n",
    "\n",
    "- 15   columns have 155 values (25 NaN) \n",
    "- 8    columns have 25 values (155 NaN)\n",
    "\n",
    "- 12   columns have 135 values\n",
    "\n",
    "- 3   columns have 133 values\n"
   ]
  },
  {
   "cell_type": "markdown",
   "metadata": {},
   "source": [
    "    \n",
    "    \n",
    "--------------------\n",
    "### Analyze the hypothesis that the various columns with 155 or 25 values are related to the 155 employees and 25 self-contractors"
   ]
  },
  {
   "cell_type": "markdown",
   "metadata": {},
   "source": [
    "The display of the questions with 155 values and the ones with 25 values do not validate nor discard the hypothesis.  \n",
    "Let's check if the answeers match one by one."
   ]
  },
  {
   "cell_type": "code",
   "execution_count": 5,
   "metadata": {},
   "outputs": [
    {
     "data": {
      "text/plain": [
       "Is your employer primarily a tech company/organization?                                                                                           155\n",
       "Has your employer ever formally discussed mental health (for example, as part of a wellness campaign or other official communication)?            155\n",
       "Does your employer offer resources to learn more about mental health disorders and options for seeking help?                                      155\n",
       "Does your employer provide mental health benefits as part of healthcare coverage?                                                                 155\n",
       "If a mental health issue prompted you to request a medical leave from work, how easy or difficult would it be to ask for that leave?              155\n",
       "Is your anonymity protected if you choose to take advantage of mental health or substance abuse treatment resources provided by your employer?    155\n",
       "Have you ever discussed your mental health with coworkers?                                                                                        155\n",
       "Overall, how much importance does your employer place on mental health?                                                                           155\n",
       "How many employees does your company or organization have?                                                                                        155\n",
       "Overall, how much importance does your employer place on physical health?                                                                         155\n",
       "Would you feel more comfortable talking to your coworkers about your physical health or your mental health?                                       155\n",
       "Would you feel comfortable discussing a mental health issue with your coworkers?                                                                  155\n",
       "Is your primary role within your company related to tech/IT?                                                                                      155\n",
       "Have you ever discussed your mental health with your employer?                                                                                    155\n",
       "Would you feel comfortable discussing a mental health issue with your direct supervisor(s)?                                                       155\n",
       "dtype: int64"
      ]
     },
     "execution_count": 5,
     "metadata": {},
     "output_type": "execute_result"
    }
   ],
   "source": [
    "columns_with_155_answers = columns_with_answers[columns_with_answers == 155].keys().to_list()\n",
    "rows_employees = df['*Are you self-employed?*'] == 0 \n",
    "\n",
    "df.loc[rows_employees, columns_with_155_answers].notnull().sum()"
   ]
  },
  {
   "cell_type": "code",
   "execution_count": 6,
   "metadata": {},
   "outputs": [
    {
     "data": {
      "text/plain": [
       "Do you know local or online resources to seek help for a mental health issue?                                                                                                         25\n",
       "Describe the conversation you had with your previous employer about your mental health, including their reactions and actions taken to address your mental health issue/questions.     6\n",
       "If you have been diagnosed or treated for a mental health disorder, do you ever reveal this to clients or business contacts?                                                          25\n",
       "If you have revealed a mental health disorder to a coworker or employee, how has this impacted you or the relationship?                                                               25\n",
       "Do you believe your productivity is ever affected by a mental health issue?                                                                                                           25\n",
       "Has being identified as a person with a mental health issue affected your career?                                                                                                      8\n",
       "Do you have medical coverage (private insurance or state-provided) that includes treatment of mental health disorders?                                                                25\n",
       "If you have been diagnosed or treated for a mental health disorder, do you ever reveal this to coworkers or employees?                                                                25\n",
       "dtype: int64"
      ]
     },
     "execution_count": 6,
     "metadata": {},
     "output_type": "execute_result"
    }
   ],
   "source": [
    "columns_with_25_answers = columns_with_answers[columns_with_answers == 25].keys().to_list()\n",
    "rows_self_employed = df['*Are you self-employed?*'] == 1 \n",
    "\n",
    "df.loc[rows_self_employed, columns_with_25_answers].notnull().sum()"
   ]
  },
  {
   "cell_type": "code",
   "execution_count": 7,
   "metadata": {},
   "outputs": [
    {
     "data": {
      "text/plain": [
       "Do you know local or online resources to seek help for a mental health issue?                                                                                                          0\n",
       "Describe the conversation you had with your previous employer about your mental health, including their reactions and actions taken to address your mental health issue/questions.    19\n",
       "If you have been diagnosed or treated for a mental health disorder, do you ever reveal this to clients or business contacts?                                                           0\n",
       "If you have revealed a mental health disorder to a coworker or employee, how has this impacted you or the relationship?                                                                0\n",
       "Do you believe your productivity is ever affected by a mental health issue?                                                                                                            0\n",
       "Has being identified as a person with a mental health issue affected your career?                                                                                                     17\n",
       "Do you have medical coverage (private insurance or state-provided) that includes treatment of mental health disorders?                                                                 0\n",
       "If you have been diagnosed or treated for a mental health disorder, do you ever reveal this to coworkers or employees?                                                                 0\n",
       "dtype: int64"
      ]
     },
     "execution_count": 7,
     "metadata": {},
     "output_type": "execute_result"
    }
   ],
   "source": [
    "df.loc[rows_employees, columns_with_25_answers].notnull().sum()"
   ]
  },
  {
   "cell_type": "markdown",
   "metadata": {},
   "source": [
    "### Result on the hypothesis 155+25 validation\n",
    "\n",
    "The hypothesis was partially validated as:\n",
    "- All the 155 answers of the columns with 155 values were provided by employees\n",
    "- Not all the 25 answers of the columns with 25 values were provided by self-employed. Only two questions could not justify the 155 NaN because were answered by a mix of employees self-contractors\n",
    "\n"
   ]
  },
  {
   "cell_type": "markdown",
   "metadata": {},
   "source": [
    "    \n",
    "    \n",
    "---------------\n",
    "### Analyze the group of 12 column with 135 values\n",
    "\n",
    "The 12 questions content are related to previous employer topics.  \n",
    "I propose the hypothesis that the 12 questions with 135 answers were provided only by people with a specific answer to the other question '*Do you have previous employers?*'\n"
   ]
  },
  {
   "cell_type": "code",
   "execution_count": 8,
   "metadata": {},
   "outputs": [
    {
     "data": {
      "text/plain": [
       "Was your anonymity protected if you chose to take advantage of mental health or substance abuse treatment resources with previous employers?    135\n",
       "Overall, how much importance did your previous employer place on physical health?                                                               135\n",
       "Overall, how much importance did your previous employer place on mental health?                                                                 135\n",
       "Did you ever discuss your mental health with your previous employer?                                                                            135\n",
       "Would you have been willing to discuss your mental health with your direct supervisor(s)?                                                       135\n",
       "Would you have felt more comfortable talking to your previous employer about your physical health or your mental health?                        135\n",
       "Did your previous employers provide resources to learn more about mental health disorders and how to seek help?                                 135\n",
       "Would you have been willing to discuss your mental health with your coworkers at previous employers?                                            135\n",
       "Were you aware of the options for mental health care provided by your previous employers?                                                       135\n",
       "Have your previous employers provided mental health benefits?                                                                                   135\n",
       "Was your employer primarily a tech company/organization?                                                                                        135\n",
       "Did your previous employers ever formally discuss mental health (as part of a wellness campaign or other official communication)?               135\n",
       "dtype: int64"
      ]
     },
     "execution_count": 8,
     "metadata": {},
     "output_type": "execute_result"
    }
   ],
   "source": [
    "# List of questions with exactly 135 values\n",
    "columns_with_answers[columns_with_answers == 135]"
   ]
  },
  {
   "cell_type": "code",
   "execution_count": 9,
   "metadata": {},
   "outputs": [
    {
     "data": {
      "text/plain": [
       "1    135\n",
       "0     45\n",
       "Name: *Do you have previous employers?*, dtype: int64"
      ]
     },
     "execution_count": 9,
     "metadata": {},
     "output_type": "execute_result"
    }
   ],
   "source": [
    "# 135 persons answered that they had previous employers \n",
    "\n",
    "df['*Do you have previous employers?*'].value_counts()"
   ]
  },
  {
   "cell_type": "code",
   "execution_count": 10,
   "metadata": {},
   "outputs": [
    {
     "data": {
      "text/plain": [
       "Was your anonymity protected if you chose to take advantage of mental health or substance abuse treatment resources with previous employers?    135\n",
       "Overall, how much importance did your previous employer place on physical health?                                                               135\n",
       "Overall, how much importance did your previous employer place on mental health?                                                                 135\n",
       "Did you ever discuss your mental health with your previous employer?                                                                            135\n",
       "Would you have been willing to discuss your mental health with your direct supervisor(s)?                                                       135\n",
       "Would you have felt more comfortable talking to your previous employer about your physical health or your mental health?                        135\n",
       "Did your previous employers provide resources to learn more about mental health disorders and how to seek help?                                 135\n",
       "Would you have been willing to discuss your mental health with your coworkers at previous employers?                                            135\n",
       "Were you aware of the options for mental health care provided by your previous employers?                                                       135\n",
       "Have your previous employers provided mental health benefits?                                                                                   135\n",
       "Was your employer primarily a tech company/organization?                                                                                        135\n",
       "Did your previous employers ever formally discuss mental health (as part of a wellness campaign or other official communication)?               135\n",
       "dtype: int64"
      ]
     },
     "execution_count": 10,
     "metadata": {},
     "output_type": "execute_result"
    }
   ],
   "source": [
    "columns_with_135_answers = columns_with_answers[columns_with_answers == 135].keys().to_list()\n",
    "rows_previous_employer = df['*Do you have previous employers?*'] == 1 \n",
    "\n",
    "df.loc[rows_previous_employer, columns_with_135_answers].notnull().sum()\n"
   ]
  },
  {
   "cell_type": "markdown",
   "metadata": {},
   "source": [
    "### Result on the hypothesis 135 with previous employer\n",
    "The hypothesis was validated as all the 135 answers to the questions with 135 values were provided by people that declared having previous employer\n"
   ]
  },
  {
   "cell_type": "markdown",
   "metadata": {},
   "source": [
    "    \n",
    "    \n",
    "-----------------------------------------------------------------------------------------------------\n",
    "### Analyze the group of 3 column with 133 values\n",
    "\n",
    "The 3 questions content are also related to current or previous employers topics.\n",
    "\n",
    "I propose the hypothesis that the 12 questions with 135 answeers were provided only by people with a specific answers to the other question '*Do you have previous employers?*'\n"
   ]
  },
  {
   "cell_type": "code",
   "execution_count": 11,
   "metadata": {},
   "outputs": [
    {
     "data": {
      "text/plain": [
       "Did you ever have a previous coworker discuss their or another coworker's mental health with you?         133\n",
       "Do you know the options for mental health care available under your employer-provided health coverage?    133\n",
       "Did you ever discuss your mental health with a previous coworker(s)?                                      133\n",
       "dtype: int64"
      ]
     },
     "execution_count": 11,
     "metadata": {},
     "output_type": "execute_result"
    }
   ],
   "source": [
    "columns_with_answers[columns_with_answers == 133]"
   ]
  },
  {
   "cell_type": "code",
   "execution_count": 12,
   "metadata": {},
   "outputs": [
    {
     "data": {
      "text/plain": [
       "Did you ever have a previous coworker discuss their or another coworker's mental health with you?         133\n",
       "Do you know the options for mental health care available under your employer-provided health coverage?     97\n",
       "Did you ever discuss your mental health with a previous coworker(s)?                                      133\n",
       "dtype: int64"
      ]
     },
     "execution_count": 12,
     "metadata": {},
     "output_type": "execute_result"
    }
   ],
   "source": [
    "columns_with_133_answers = columns_with_answers[columns_with_answers == 133].keys().to_list()\n",
    "\n",
    "df.loc[rows_previous_employer, columns_with_133_answers].notnull().sum()"
   ]
  },
  {
   "cell_type": "code",
   "execution_count": 13,
   "metadata": {},
   "outputs": [
    {
     "data": {
      "text/plain": [
       "Did you ever have a previous coworker discuss their or another coworker's mental health with you?         116\n",
       "Do you know the options for mental health care available under your employer-provided health coverage?    133\n",
       "Did you ever discuss your mental health with a previous coworker(s)?                                      116\n",
       "dtype: int64"
      ]
     },
     "execution_count": 13,
     "metadata": {},
     "output_type": "execute_result"
    }
   ],
   "source": [
    "df.loc[rows_employees, columns_with_133_answers].notnull().sum()"
   ]
  },
  {
   "cell_type": "markdown",
   "metadata": {},
   "source": [
    "### Result on the hypothesis 133 with current or previous employer\n",
    "The hypothesis was validated as all the 133 answers to the questions with 133 values were provided by people that declared having a current or a previous employer\n"
   ]
  },
  {
   "cell_type": "markdown",
   "metadata": {},
   "source": [
    "## Conclusion of the data preparation\n",
    "\n",
    "- 81 of the 120 questions will be used in this analysis because they contained more than 10% of the values\n",
    "- Suspicious groups of columns with the same numbers of NaN values were investigated. It seems that some questions were not proposed during the survey based on previous questions:\n",
    "    - Questions about previous employer were only asked to the 155 persons who declared having a previous employer\n",
    "    - Questions about current employer were only asked to the 135 persons who declared having a current employer\n",
    "- Other NaN values could be found but they are minor and should be study one at the time    \n",
    "\n",
    "-----------\n"
   ]
  },
  {
   "cell_type": "markdown",
   "metadata": {},
   "source": [
    "# Evaluation"
   ]
  },
  {
   "cell_type": "markdown",
   "metadata": {},
   "source": [
    "\n",
    "# Question 1 - Knowing mental issues\n",
    "One of the first steps to reintegrate a person with a recent physically disability is to evaluate the new limitations/possibilities of that person.  \n",
    "I wanted to know ***how people impacted by mental issues are willing and educated to evaluate their limitations.***  \n",
    "Here are some questions of the survey that are related to that level of knowledge \n"
   ]
  },
  {
   "cell_type": "markdown",
   "metadata": {},
   "source": [
    "## Visualize data on knowledge level"
   ]
  },
  {
   "cell_type": "code",
   "execution_count": 14,
   "metadata": {},
   "outputs": [
    {
     "data": {
      "image/png": "[encoded data removed]",
      "text/plain": [
       "<Figure size 360x1080 with 3 Axes>"
      ]
     },
     "metadata": {},
     "output_type": "display_data"
    }
   ],
   "source": [
    "questions_for_A = ['Does your employer offer resources to learn more about mental health disorders and options for seeking help?', \n",
    "                   'Does your employer provide mental health benefits as part of healthcare coverage?', \n",
    "                   'Do you know local or online resources to seek help for a mental health issue?']\n",
    "\n",
    "answers_for_A_implies_knowing = [['Yes','No' ],\n",
    "                                 ['Yes', 'No'],\n",
    "                                 ['Yes, I know several', 'I know some']]\n",
    "\n",
    "\n",
    "def plot_questions_on_pie(survey_df, questions , answers_to_highlights):\n",
    "    '''\n",
    "    INPUT:\n",
    "        survey_df - the pandas dataframe containing all the survey data\n",
    "        questions - list of questions to plot\n",
    "        answers_to_highlights - list of lists of values to highlight for each answer of Question \n",
    "        \n",
    "    OUTPUT:\n",
    "        N/A\n",
    "    '''\n",
    "    df_A =[]\n",
    "    for q in questions:\n",
    "        df_A.append(survey_df[q].value_counts())\n",
    "\n",
    "    df_A_len = len(df_A)\n",
    "    fig, axs = plt.subplots(df_A_len, 1, figsize=[5, 5 * df_A_len]);\n",
    "    fig.set_tight_layout(True)\n",
    "\n",
    "    for i in range(df_A_len):\n",
    "        axs[i].set_title(questions[i], wrap=True, fontsize=12);\n",
    "        df_A_i_keys = df_A[i].keys()\n",
    "        ax_colors = []\n",
    "        for k in df_A_i_keys:\n",
    "            if(k in answers_to_highlights[i]):\n",
    "                ax_colors.append('#66b3ff')\n",
    "            else:\n",
    "                ax_colors.append('grey')\n",
    "\n",
    "        axs[i].pie(df_A[i], colors = ax_colors, labels=df_A_i_keys, startangle=90, autopct='%1.f%%');\n",
    "\n",
    "\n",
    "plot_questions_on_pie(df, questions_for_A, answers_for_A_implies_knowing)\n"
   ]
  },
  {
   "cell_type": "markdown",
   "metadata": {},
   "source": [
    "### Explanation for visualisation - Knowing mental issues\n",
    "We can see that most of the answers provided to these three questions implies knowledge about mental health benefits, or access to resources to learn from (blue zones above).  \n",
    "\n",
    "We should also remember that this survey was mainly completed by people interested in this topic since they were ready to invest 10-20 minutes voluntarily.  \n",
    "We could expect lower values for knowledge or information access if the survey was repeated with a general population.   \n",
    "\n"
   ]
  },
  {
   "cell_type": "markdown",
   "metadata": {},
   "source": [
    "-----------\n",
    "\n",
    "# Question 2 - communication at work\n",
    "To reintegrate workplace even remotely, a person should be able to talk about their limitations and the possible accommodations that could improve their work day.   \n",
    "**How people with mental disabilities are willing to talk about it to their colleagues and employers?**\n",
    "\n"
   ]
  },
  {
   "cell_type": "markdown",
   "metadata": {},
   "source": [
    "## Visualize data on communication at work "
   ]
  },
  {
   "cell_type": "code",
   "execution_count": 26,
   "metadata": {},
   "outputs": [
    {
     "data": {
      "image/png": "[encoded data removed]",
      "text/plain": [
       "<Figure size 432x288 with 3 Axes>"
      ]
     },
     "metadata": {
      "needs_background": "light"
     },
     "output_type": "display_data"
    }
   ],
   "source": [
    "questions_for_B = [ 'Would you feel comfortable discussing a mental health issue with your coworkers?',\n",
    "                    'Would you feel comfortable discussing a mental health issue with your direct supervisor(s)?',\n",
    "                    'Would you feel more comfortable talking to your coworkers about your physical health or your mental health?']\n",
    "\n",
    "df_B =[]\n",
    "for q in questions_for_B:\n",
    "    df_B.append(df[q].value_counts())\n",
    "\n",
    "df_B_len = len(df_B)\n",
    "fig, axs = plt.subplots(df_B_len, 1);\n",
    "fig.set_tight_layout(True)\n",
    "\n",
    "for i in range(df_B_len):\n",
    "    axs[i].set_title(questions_for_B[i], wrap=True, fontsize=12);\n",
    "    df_B_i_keys = df_B[i].keys()\n",
    "    axs[i].barh(y= df_B_i_keys, width= df_B[i] )\n",
    "    "
   ]
  },
  {
   "cell_type": "markdown",
   "metadata": {},
   "source": [
    "### Explanation for visualisation - communication at work\n",
    "\n",
    "Based on the survey, we should not expect people to easily share their situation with colleagues or superiors at work.  \n",
    "It looks like, it is easier to talk about physical issues than the mental ones. \n",
    "\n"
   ]
  },
  {
   "cell_type": "markdown",
   "metadata": {},
   "source": [
    "-----------\n",
    "\n",
    "# Question 2 -  data privacy\n",
    "\n",
    "People working while having mental health issues try to find the just amount of information to share with their colleagues and superior.   \n",
    "It is important for them to feel in control of that amount of information and to trust the company and insurance.  \n",
    "**How people with mental disabilities are trusting their companies to process privately their information?**\n"
   ]
  },
  {
   "cell_type": "markdown",
   "metadata": {},
   "source": [
    "## Visualize data privacy"
   ]
  },
  {
   "cell_type": "code",
   "execution_count": 27,
   "metadata": {},
   "outputs": [
    {
     "data": {
      "image/png": "[encoded data removed]",
      "text/plain": [
       "<Figure size 432x288 with 1 Axes>"
      ]
     },
     "metadata": {
      "needs_background": "light"
     },
     "output_type": "display_data"
    }
   ],
   "source": [
    "question_for_C = 'Is your anonymity protected if you choose to take advantage of mental health or substance abuse treatment resources provided by your employer?'\n",
    "\n",
    "df_C_0 = df[question_for_C].value_counts()\n",
    "\n",
    "ax = df_C_0.plot.bar(color=['orange','green', 'red']);\n",
    "ax.set_title(question_for_C, fontsize=12);"
   ]
  },
  {
   "cell_type": "markdown",
   "metadata": {},
   "source": [
    "### Explanation for visualisation - data privacy\n",
    "\n",
    "It looks like people do not think that data privacy about their mental condition will be respected by company employees or company insurance. \n",
    "This should be investigated and fixed since some people would decide to not take advantage of useful resources; to avoid personal information to be spread across their colleagues or superiors.\n",
    "\n",
    "--------\n",
    "\n"
   ]
  },
  {
   "cell_type": "markdown",
   "metadata": {},
   "source": [
    "## Conclusions:\n",
    "    \n",
    "Fear of others seems to be an unnecessary difficulty experienced by people struggling to balance work with their mental issues.  \n",
    "\n",
    "Even if many mental illnesses could be fixed today or at least treated to allow a successful and happy career, improvements should be done on the personal and professional sides of our society.  \n",
    "Parents, schools, friends should share knowledge about how to recognize, to accept, and to find treatments for mental issues, from the little scratches to the one that requires a professional.   \n",
    "Since jobs will become more mental than physical, it is primordial to accelerate the education of people and company managers.  \n",
    "\n",
    "We should be able to speak about stress, anxiety, depression as we speak about back pain, hangover, and our last visit to the dentist.\n"
   ]
  }
 ],
 "metadata": {
  "kernelspec": {
   "display_name": "Python 3",
   "language": "python",
   "name": "python3"
  },
  "language_info": {
   "codemirror_mode": {
    "name": "ipython",
    "version": 3
   },
   "file_extension": ".py",
   "mimetype": "text/x-python",
   "name": "python",
   "nbconvert_exporter": "python",
   "pygments_lexer": "ipython3",
   "version": "3.8.6"
  }
 },
 "nbformat": 4,
 "nbformat_minor": 4
}
