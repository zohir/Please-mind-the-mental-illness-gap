{
 "cells": [
  {
   "cell_type": "markdown",
   "metadata": {},
   "source": [
    "# Explore OSMI survey datasets of 2020\n",
    "    \n",
    "##    About OSMI - Open Sourcing Mental Illness\n",
    "    Open Sourcing Mental Illness is a non-profit corporation dedicated to raising awareness, educating, and providing resources to support mental wellness in the tech and open source communities.Open Sourcing Mental Illness is a non-profit, 501(c)(3) corporation dedicated to raising awareness, educating, and providing resources to support mental wellness in the tech and open source communities.\n",
    "https://osmihelp.org/\n",
    "\n",
    "    Every year, OSMI publishes a survey report since 2016  \n",
    "\n",
    "\n",
    "## OSMI Mental Health In Tech Survey 2020\n",
    "\n",
    "    This dataset was published on Kaggle the 2nd of January based on 2020 survey.\n",
    "https://www.kaggle.com/osmihelp/osmi-2020-mental-health-in-tech-survey-results\n",
    "\n",
    "    This usrvey is Biais by te fact the participantsare volontaries sensible to this topic \n",
    "\n",
    "\n",
    "    XXXXXXX from Word\n",
    "\n",
    "\n"
   ]
  },
  {
   "cell_type": "code",
   "execution_count": 1,
   "metadata": {},
   "outputs": [],
   "source": [
    "import pandas as pd\n",
    "import matplotlib as plt\n",
    "#!pip install pandas_profiling\n",
    "import pandas_profiling as pp"
   ]
  },
  {
   "cell_type": "markdown",
   "metadata": {},
   "source": [
    "## 1. Data overview"
   ]
  },
  {
   "cell_type": "markdown",
   "metadata": {},
   "source": [
    "Observations:\n",
    "1. The dataset is composed by 180 answers to the survey.\n",
    "2. The survey is composed by 120 questions\n",
    "3. Many NaN values because answering to the questions is not mandatory and because some questions are not always relevant as: \n",
    " 1. The US state when you already answerd working our of US\n",
    " 2. Question related employeers for self-employed people\n",
    "\n"
   ]
  },
  {
   "cell_type": "code",
   "execution_count": 36,
   "metadata": {},
   "outputs": [
    {
     "name": "stdout",
     "output_type": "stream",
     "text": [
      "Shape of the dataframe =  (180, 120)\n"
     ]
    },
    {
     "data": {
      "text/html": [
       "<div>\n",
       "<style scoped>\n",
       "    .dataframe tbody tr th:only-of-type {\n",
       "        vertical-align: middle;\n",
       "    }\n",
       "\n",
       "    .dataframe tbody tr th {\n",
       "        vertical-align: top;\n",
       "    }\n",
       "\n",
       "    .dataframe thead th {\n",
       "        text-align: right;\n",
       "    }\n",
       "</style>\n",
       "<table border=\"1\" class=\"dataframe\">\n",
       "  <thead>\n",
       "    <tr style=\"text-align: right;\">\n",
       "      <th></th>\n",
       "      <th>#</th>\n",
       "      <th>*Are you self-employed?*</th>\n",
       "      <th>How many employees does your company or organization have?</th>\n",
       "      <th>Is your employer primarily a tech company/organization?</th>\n",
       "      <th>Is your primary role within your company related to tech/IT?</th>\n",
       "      <th>Does your employer provide mental health benefits as part of healthcare coverage?</th>\n",
       "      <th>Do you know the options for mental health care available under your employer-provided health coverage?</th>\n",
       "      <th>Has your employer ever formally discussed mental health (for example, as part of a wellness campaign or other official communication)?</th>\n",
       "      <th>Does your employer offer resources to learn more about mental health disorders and options for seeking help?</th>\n",
       "      <th>Is your anonymity protected if you choose to take advantage of mental health or substance abuse treatment resources provided by your employer?</th>\n",
       "      <th>...</th>\n",
       "      <th>If there is anything else you would like to tell us that has not been covered by the survey questions, please use this space to do so.</th>\n",
       "      <th>Would you be willing to talk to one of us more extensively about your experiences with mental health issues in the tech industry? (Note that all interview responses would be used _anonymously_ and only with your permission.)</th>\n",
       "      <th>What is your age?</th>\n",
       "      <th>What is your gender?</th>\n",
       "      <th>What country do you *live* in?</th>\n",
       "      <th>What US state or territory do you *live* in?</th>\n",
       "      <th>What is your race?</th>\n",
       "      <th>Other.3</th>\n",
       "      <th>What country do you *work* in?</th>\n",
       "      <th>What US state or territory do you *work* in?</th>\n",
       "    </tr>\n",
       "  </thead>\n",
       "  <tbody>\n",
       "    <tr>\n",
       "      <th>0</th>\n",
       "      <td>zwrffw6ykfo82ft1twvzwrffw6c6wsfv</td>\n",
       "      <td>1</td>\n",
       "      <td>NaN</td>\n",
       "      <td>NaN</td>\n",
       "      <td>NaN</td>\n",
       "      <td>NaN</td>\n",
       "      <td>NaN</td>\n",
       "      <td>NaN</td>\n",
       "      <td>NaN</td>\n",
       "      <td>NaN</td>\n",
       "      <td>...</td>\n",
       "      <td>NaN</td>\n",
       "      <td>0</td>\n",
       "      <td>45</td>\n",
       "      <td>Male</td>\n",
       "      <td>United States of America</td>\n",
       "      <td>Connecticut</td>\n",
       "      <td>White</td>\n",
       "      <td>NaN</td>\n",
       "      <td>United States of America</td>\n",
       "      <td>Connecticut</td>\n",
       "    </tr>\n",
       "    <tr>\n",
       "      <th>1</th>\n",
       "      <td>zhdmhaa8r0125c4zmoi7qzhdmtjrakhm</td>\n",
       "      <td>1</td>\n",
       "      <td>NaN</td>\n",
       "      <td>NaN</td>\n",
       "      <td>NaN</td>\n",
       "      <td>NaN</td>\n",
       "      <td>NaN</td>\n",
       "      <td>NaN</td>\n",
       "      <td>NaN</td>\n",
       "      <td>NaN</td>\n",
       "      <td>...</td>\n",
       "      <td>NaN</td>\n",
       "      <td>1</td>\n",
       "      <td>24</td>\n",
       "      <td>female</td>\n",
       "      <td>Russia</td>\n",
       "      <td>NaN</td>\n",
       "      <td>NaN</td>\n",
       "      <td>NaN</td>\n",
       "      <td>Russia</td>\n",
       "      <td>NaN</td>\n",
       "    </tr>\n",
       "  </tbody>\n",
       "</table>\n",
       "<p>2 rows × 120 columns</p>\n",
       "</div>"
      ],
      "text/plain": [
       "                                  #  *Are you self-employed?*  \\\n",
       "0  zwrffw6ykfo82ft1twvzwrffw6c6wsfv                         1   \n",
       "1  zhdmhaa8r0125c4zmoi7qzhdmtjrakhm                         1   \n",
       "\n",
       "  How many employees does your company or organization have?  \\\n",
       "0                                                NaN           \n",
       "1                                                NaN           \n",
       "\n",
       "   Is your employer primarily a tech company/organization?  \\\n",
       "0                                                NaN         \n",
       "1                                                NaN         \n",
       "\n",
       "   Is your primary role within your company related to tech/IT?  \\\n",
       "0                                                NaN              \n",
       "1                                                NaN              \n",
       "\n",
       "  Does your employer provide mental health benefits as part of healthcare coverage?  \\\n",
       "0                                                NaN                                  \n",
       "1                                                NaN                                  \n",
       "\n",
       "  Do you know the options for mental health care available under your employer-provided health coverage?  \\\n",
       "0                                                NaN                                                       \n",
       "1                                                NaN                                                       \n",
       "\n",
       "  Has your employer ever formally discussed mental health (for example, as part of a wellness campaign or other official communication)?  \\\n",
       "0                                                NaN                                                                                       \n",
       "1                                                NaN                                                                                       \n",
       "\n",
       "  Does your employer offer resources to learn more about mental health disorders and options for seeking help?  \\\n",
       "0                                                NaN                                                             \n",
       "1                                                NaN                                                             \n",
       "\n",
       "  Is your anonymity protected if you choose to take advantage of mental health or substance abuse treatment resources provided by your employer?  \\\n",
       "0                                                NaN                                                                                               \n",
       "1                                                NaN                                                                                               \n",
       "\n",
       "   ...  \\\n",
       "0  ...   \n",
       "1  ...   \n",
       "\n",
       "  If there is anything else you would like to tell us that has not been covered by the survey questions, please use this space to do so.  \\\n",
       "0                                                NaN                                                                                       \n",
       "1                                                NaN                                                                                       \n",
       "\n",
       "  Would you be willing to talk to one of us more extensively about your experiences with mental health issues in the tech industry? (Note that all interview responses would be used _anonymously_ and only with your permission.)  \\\n",
       "0                                                  0                                                                                                                                                                                 \n",
       "1                                                  1                                                                                                                                                                                 \n",
       "\n",
       "  What is your age?  What is your gender? What country do you *live* in?  \\\n",
       "0                45                  Male       United States of America   \n",
       "1                24                female                         Russia   \n",
       "\n",
       "  What US state or territory do you *live* in?  What is your race? Other.3  \\\n",
       "0                                  Connecticut               White     NaN   \n",
       "1                                          NaN                 NaN     NaN   \n",
       "\n",
       "   What country do you *work* in? What US state or territory do you *work* in?  \n",
       "0        United States of America                                  Connecticut  \n",
       "1                          Russia                                          NaN  \n",
       "\n",
       "[2 rows x 120 columns]"
      ]
     },
     "execution_count": 36,
     "metadata": {},
     "output_type": "execute_result"
    }
   ],
   "source": [
    "df = pd.read_csv('data/OSMI/OSMI-2020.csv')\n",
    "print('Shape of the dataframe = ' , df.shape)\n",
    "df.head(2)"
   ]
  },
  {
   "cell_type": "markdown",
   "metadata": {},
   "source": [
    "## 2. Analysing missing values"
   ]
  },
  {
   "cell_type": "code",
   "execution_count": 6,
   "metadata": {},
   "outputs": [
    {
     "data": {
      "image/png": "[encoded data removed]",
      "text/plain": [
       "<Figure size 432x288 with 1 Axes>"
      ]
     },
     "metadata": {
      "needs_background": "light"
     },
     "output_type": "display_data"
    }
   ],
   "source": [
    "# Counting values by column\n",
    "values_by_columns = df.notnull().sum()\n",
    "\n",
    "values_by_columns.plot(kind='area', xticks=[]);"
   ]
  },
  {
   "cell_type": "markdown",
   "metadata": {},
   "source": [
    "#### 81 questions have more than 10% of answeers. The others will not be analyzed"
   ]
  },
  {
   "cell_type": "code",
   "execution_count": 101,
   "metadata": {},
   "outputs": [
    {
     "name": "stdout",
     "output_type": "stream",
     "text": [
      "Number of questions with enough answers -->  81\n"
     ]
    },
    {
     "data": {
      "image/png": "[encoded data removed]",
      "text/plain": [
       "<Figure size 432x288 with 1 Axes>"
      ]
     },
     "metadata": {
      "needs_background": "light"
     },
     "output_type": "display_data"
    }
   ],
   "source": [
    "columns_with_answers = values_by_columns[values_by_columns > 18].sort_values()\n",
    "print('Number of questions with enough answers --> ', columns_with_answers.count())\n",
    "\n",
    "columns_with_answers.plot(kind='area', xticks=[]);"
   ]
  },
  {
   "cell_type": "markdown",
   "metadata": {},
   "source": [
    "### By ploting the number of values by columns, we can observe a stairs effect.\n",
    "    \n",
    "- 20   columns have 180 values (0 NaN)\n",
    "\n",
    "- 15   columns have 155 values (25 NaN) \n",
    "- 8    columns have 25 values (155 NaN)\n",
    "\n",
    "- 12   columns have 135 values\n",
    "\n",
    "- 3   columns have 133 values\n"
   ]
  },
  {
   "cell_type": "markdown",
   "metadata": {},
   "source": [
    "### Verifying the hypothesis that the various columns with 155 or 25 values are related to the 155 employees and 25 self-contractors"
   ]
  },
  {
   "cell_type": "markdown",
   "metadata": {},
   "source": [
    "The display of the questions with 155 values and the ones with 25 values do not validate the hypothesis.\n",
    "Let's check if the answeers matche one by one."
   ]
  },
  {
   "cell_type": "code",
   "execution_count": 121,
   "metadata": {},
   "outputs": [
    {
     "data": {
      "text/plain": [
       "Is your employer primarily a tech company/organization?                                                                                           155\n",
       "Has your employer ever formally discussed mental health (for example, as part of a wellness campaign or other official communication)?            155\n",
       "Does your employer offer resources to learn more about mental health disorders and options for seeking help?                                      155\n",
       "Does your employer provide mental health benefits as part of healthcare coverage?                                                                 155\n",
       "If a mental health issue prompted you to request a medical leave from work, how easy or difficult would it be to ask for that leave?              155\n",
       "Is your anonymity protected if you choose to take advantage of mental health or substance abuse treatment resources provided by your employer?    155\n",
       "Have you ever discussed your mental health with coworkers?                                                                                        155\n",
       "Overall, how much importance does your employer place on mental health?                                                                           155\n",
       "How many employees does your company or organization have?                                                                                        155\n",
       "Overall, how much importance does your employer place on physical health?                                                                         155\n",
       "Would you feel more comfortable talking to your coworkers about your physical health or your mental health?                                       155\n",
       "Would you feel comfortable discussing a mental health issue with your coworkers?                                                                  155\n",
       "Is your primary role within your company related to tech/IT?                                                                                      155\n",
       "Have you ever discussed your mental health with your employer?                                                                                    155\n",
       "Would you feel comfortable discussing a mental health issue with your direct supervisor(s)?                                                       155\n",
       "dtype: int64"
      ]
     },
     "execution_count": 121,
     "metadata": {},
     "output_type": "execute_result"
    }
   ],
   "source": [
    "columns_with_155_answers = columns_with_answers[columns_with_answers == 155].keys().to_list()\n",
    "rows_employees = df['*Are you self-employed?*'] == 0 \n",
    "\n",
    "df.loc[rows_employees, columns_with_155_answers].notnull().sum()"
   ]
  },
  {
   "cell_type": "code",
   "execution_count": 122,
   "metadata": {},
   "outputs": [
    {
     "data": {
      "text/plain": [
       "Do you know local or online resources to seek help for a mental health issue?                                                                                                         25\n",
       "Describe the conversation you had with your previous employer about your mental health, including their reactions and actions taken to address your mental health issue/questions.     6\n",
       "If you have been diagnosed or treated for a mental health disorder, do you ever reveal this to clients or business contacts?                                                          25\n",
       "If you have revealed a mental health disorder to a coworker or employee, how has this impacted you or the relationship?                                                               25\n",
       "Do you believe your productivity is ever affected by a mental health issue?                                                                                                           25\n",
       "Has being identified as a person with a mental health issue affected your career?                                                                                                      8\n",
       "Do you have medical coverage (private insurance or state-provided) that includes treatment of mental health disorders?                                                                25\n",
       "If you have been diagnosed or treated for a mental health disorder, do you ever reveal this to coworkers or employees?                                                                25\n",
       "dtype: int64"
      ]
     },
     "execution_count": 122,
     "metadata": {},
     "output_type": "execute_result"
    }
   ],
   "source": [
    "columns_with_25_answers = columns_with_answers[columns_with_answers == 25].keys().to_list()\n",
    "rows_self_employed = df['*Are you self-employed?*'] == 1 \n",
    "\n",
    "df.loc[rows_self_employed, columns_with_25_answers].notnull().sum()"
   ]
  },
  {
   "cell_type": "code",
   "execution_count": 124,
   "metadata": {},
   "outputs": [
    {
     "data": {
      "text/plain": [
       "Do you know local or online resources to seek help for a mental health issue?                                                                                                          0\n",
       "Describe the conversation you had with your previous employer about your mental health, including their reactions and actions taken to address your mental health issue/questions.    19\n",
       "If you have been diagnosed or treated for a mental health disorder, do you ever reveal this to clients or business contacts?                                                           0\n",
       "If you have revealed a mental health disorder to a coworker or employee, how has this impacted you or the relationship?                                                                0\n",
       "Do you believe your productivity is ever affected by a mental health issue?                                                                                                            0\n",
       "Has being identified as a person with a mental health issue affected your career?                                                                                                     17\n",
       "Do you have medical coverage (private insurance or state-provided) that includes treatment of mental health disorders?                                                                 0\n",
       "If you have been diagnosed or treated for a mental health disorder, do you ever reveal this to coworkers or employees?                                                                 0\n",
       "dtype: int64"
      ]
     },
     "execution_count": 124,
     "metadata": {},
     "output_type": "execute_result"
    }
   ],
   "source": [
    "df.loc[rows_employees, columns_with_25_answers].notnull().sum()"
   ]
  },
  {
   "cell_type": "markdown",
   "metadata": {},
   "source": [
    "    \n",
    "    \n",
    "------------------------------------------------------------------------------------------------------------------------------------------------------------------\n",
    "### Investigating the group of 12 column with 135 values\n",
    "\n",
    "The 12 questions content are related to previous employers.\n",
    "\n",
    "I propose the hypothesis that the 12 questions with 135 answeers were provided only by the persons with a specific answeer to the other question '*Do you have previous employers?*'\n",
    "\n",
    "\n",
    "\n"
   ]
  },
  {
   "cell_type": "code",
   "execution_count": 136,
   "metadata": {},
   "outputs": [
    {
     "data": {
      "text/plain": [
       "Was your anonymity protected if you chose to take advantage of mental health or substance abuse treatment resources with previous employers?    135\n",
       "Overall, how much importance did your previous employer place on physical health?                                                               135\n",
       "Overall, how much importance did your previous employer place on mental health?                                                                 135\n",
       "Did you ever discuss your mental health with your previous employer?                                                                            135\n",
       "Would you have been willing to discuss your mental health with your direct supervisor(s)?                                                       135\n",
       "Would you have felt more comfortable talking to your previous employer about your physical health or your mental health?                        135\n",
       "Did your previous employers provide resources to learn more about mental health disorders and how to seek help?                                 135\n",
       "Would you have been willing to discuss your mental health with your coworkers at previous employers?                                            135\n",
       "Were you aware of the options for mental health care provided by your previous employers?                                                       135\n",
       "Have your previous employers provided mental health benefits?                                                                                   135\n",
       "Was your employer primarily a tech company/organization?                                                                                        135\n",
       "Did your previous employers ever formally discuss mental health (as part of a wellness campaign or other official communication)?               135\n",
       "dtype: int64"
      ]
     },
     "execution_count": 136,
     "metadata": {},
     "output_type": "execute_result"
    }
   ],
   "source": [
    "# List of questions with exactly 135 values\n",
    "columns_with_answers[columns_with_answers == 135]"
   ]
  },
  {
   "cell_type": "code",
   "execution_count": 141,
   "metadata": {},
   "outputs": [
    {
     "data": {
      "text/plain": [
       "1    135\n",
       "0     45\n",
       "Name: *Do you have previous employers?*, dtype: int64"
      ]
     },
     "execution_count": 141,
     "metadata": {},
     "output_type": "execute_result"
    }
   ],
   "source": [
    "# 135 persons answered that they have previous employers \n",
    "\n",
    "df['*Do you have previous employers?*'].value_counts()"
   ]
  },
  {
   "cell_type": "code",
   "execution_count": 149,
   "metadata": {},
   "outputs": [
    {
     "data": {
      "text/plain": [
       "Was your anonymity protected if you chose to take advantage of mental health or substance abuse treatment resources with previous employers?    135\n",
       "Overall, how much importance did your previous employer place on physical health?                                                               135\n",
       "Overall, how much importance did your previous employer place on mental health?                                                                 135\n",
       "Did you ever discuss your mental health with your previous employer?                                                                            135\n",
       "Would you have been willing to discuss your mental health with your direct supervisor(s)?                                                       135\n",
       "Would you have felt more comfortable talking to your previous employer about your physical health or your mental health?                        135\n",
       "Did your previous employers provide resources to learn more about mental health disorders and how to seek help?                                 135\n",
       "Would you have been willing to discuss your mental health with your coworkers at previous employers?                                            135\n",
       "Were you aware of the options for mental health care provided by your previous employers?                                                       135\n",
       "Have your previous employers provided mental health benefits?                                                                                   135\n",
       "Was your employer primarily a tech company/organization?                                                                                        135\n",
       "Did your previous employers ever formally discuss mental health (as part of a wellness campaign or other official communication)?               135\n",
       "dtype: int64"
      ]
     },
     "execution_count": 149,
     "metadata": {},
     "output_type": "execute_result"
    }
   ],
   "source": [
    "columns_with_135_answers = columns_with_answers[columns_with_answers == 135].keys().to_list()\n",
    "rows_previous_employer = df['*Do you have previous employers?*'] == 1 \n",
    "\n",
    "df.loc[rows_previous_employer, columns_with_135_answers].notnull().sum()\n"
   ]
  },
  {
   "cell_type": "code",
   "execution_count": null,
   "metadata": {},
   "outputs": [],
   "source": []
  },
  {
   "cell_type": "code",
   "execution_count": null,
   "metadata": {},
   "outputs": [],
   "source": []
  },
  {
   "cell_type": "code",
   "execution_count": null,
   "metadata": {},
   "outputs": [],
   "source": []
  },
  {
   "cell_type": "markdown",
   "metadata": {},
   "source": [
    "### Result on the hypothesis 135+25 validation\n",
    "\n",
    "The hypothesis was partially validated as:\n",
    "- All the 155 answeers of the columns with 155 values were provided by employees\n",
    "- Not all the 25 answeers of the columns with 25 values were provided by self-employed. Only two questions could not justify the 155 NaN because were answered by a mix ox employees\n",
    "\n",
    "\n",
    "\n"
   ]
  },
  {
   "cell_type": "code",
   "execution_count": 135,
   "metadata": {},
   "outputs": [
    {
     "name": "stdout",
     "output_type": "stream",
     "text": [
      "Do you know local or online resources to seek help for a mental health issue?\n",
      "Was your anonymity protected if you chose to take advantage of mental health or substance abuse treatment resources with previous employers?\n",
      "Did your previous employers provide resources to learn more about mental health disorders and how to seek help?\n",
      "Does your employer offer resources to learn more about mental health disorders and options for seeking help?\n",
      "Is your anonymity protected if you choose to take advantage of mental health or substance abuse treatment resources provided by your employer?\n"
     ]
    }
   ],
   "source": [
    "for c in columns_with_answers.keys():\n",
    "    if('resources' in c):\n",
    "        print(c)\n",
    "# 'online resources'"
   ]
  },
  {
   "cell_type": "code",
   "execution_count": null,
   "metadata": {},
   "outputs": [],
   "source": []
  },
  {
   "cell_type": "markdown",
   "metadata": {},
   "source": [
    "## Data preparation"
   ]
  },
  {
   "cell_type": "code",
   "execution_count": 71,
   "metadata": {},
   "outputs": [],
   "source": [
    "# df[2019].columns.to_list()\n",
    "\n",
    "\n",
    "\n",
    "\n",
    "\n",
    "Would you feel more comfortable talking to your coworkers about your physical health or your mental health?\n",
    "\n",
    "\n",
    "\n"
   ]
  }
 ],
 "metadata": {
  "kernelspec": {
   "display_name": "Python 3",
   "language": "python",
   "name": "python3"
  },
  "language_info": {
   "codemirror_mode": {
    "name": "ipython",
    "version": 3
   },
   "file_extension": ".py",
   "mimetype": "text/x-python",
   "name": "python",
   "nbconvert_exporter": "python",
   "pygments_lexer": "ipython3",
   "version": "3.8.6"
  }
 },
 "nbformat": 4,
 "nbformat_minor": 4
}
